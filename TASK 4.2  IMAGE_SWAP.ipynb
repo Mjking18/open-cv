{
 "cells": [
  {
   "cell_type": "markdown",
   "id": "exciting-germany",
   "metadata": {},
   "source": [
    "# Task 4.2  Take 2 images crop some parts of both images and swap it. "
   ]
  },
  {
   "cell_type": "code",
   "execution_count": 17,
   "id": "sublime-manual",
   "metadata": {},
   "outputs": [],
   "source": [
    "# importing libraries\n",
    "\n",
    "import cv2\n",
    "import numpy as np"
   ]
  },
  {
   "cell_type": "code",
   "execution_count": 18,
   "id": "automotive-perspective",
   "metadata": {},
   "outputs": [],
   "source": [
    "#importing image 1\n",
    "\n",
    "photo1=cv2.imread('a.jpeg')"
   ]
  },
  {
   "cell_type": "code",
   "execution_count": 19,
   "id": "diagnostic-playing",
   "metadata": {},
   "outputs": [],
   "source": [
    "cv2.imshow('virat',photo1)\n",
    "cv2.waitKey()\n",
    "cv2.destroyAllWindows()"
   ]
  },
  {
   "cell_type": "code",
   "execution_count": 20,
   "id": "noted-german",
   "metadata": {},
   "outputs": [],
   "source": [
    "#importing image 2\n",
    "\n",
    "photo2=cv2.imread('b.jpeg')\n"
   ]
  },
  {
   "cell_type": "code",
   "execution_count": 21,
   "id": "expected-outdoors",
   "metadata": {},
   "outputs": [],
   "source": [
    "cv2.imshow('',photo2)\n",
    "cv2.waitKey()\n",
    "cv2.destroyAllWindows()\n"
   ]
  },
  {
   "cell_type": "code",
   "execution_count": 22,
   "id": "recovered-moral",
   "metadata": {},
   "outputs": [
    {
     "data": {
      "text/plain": [
       "(509, 350, 3)"
      ]
     },
     "execution_count": 22,
     "metadata": {},
     "output_type": "execute_result"
    }
   ],
   "source": [
    "#Dimensions\n",
    "\n",
    "photo1.shape"
   ]
  },
  {
   "cell_type": "code",
   "execution_count": 23,
   "id": "looking-crack",
   "metadata": {},
   "outputs": [
    {
     "data": {
      "text/plain": [
       "(509, 350, 3)"
      ]
     },
     "execution_count": 23,
     "metadata": {},
     "output_type": "execute_result"
    }
   ],
   "source": [
    "photo2.shape"
   ]
  },
  {
   "cell_type": "code",
   "execution_count": 24,
   "id": "known-communication",
   "metadata": {},
   "outputs": [],
   "source": [
    "# CROPPING IMAGE 1\n",
    "\n",
    "a_crop=photo1[20:220,100:300]"
   ]
  },
  {
   "cell_type": "code",
   "execution_count": 25,
   "id": "spiritual-skill",
   "metadata": {},
   "outputs": [],
   "source": [
    "cv2.imshow('pic1_crop',a_crop)\n",
    "cv2.waitKey()\n",
    "cv2.destroyAllWindows()"
   ]
  },
  {
   "cell_type": "code",
   "execution_count": 26,
   "id": "interpreted-dependence",
   "metadata": {},
   "outputs": [],
   "source": [
    "#SWAPPING CROPPED IMAGE 1 WITH IMAGE 2\n",
    "photo2[20:220,100:300]=a_crop"
   ]
  },
  {
   "cell_type": "code",
   "execution_count": 27,
   "id": "featured-crest",
   "metadata": {},
   "outputs": [],
   "source": [
    "cv2.imshow('pic2_final',photo2)\n",
    "cv2.waitKey()\n",
    "cv2.destroyAllWindows()"
   ]
  },
  {
   "cell_type": "code",
   "execution_count": 28,
   "id": "varied-neutral",
   "metadata": {},
   "outputs": [],
   "source": [
    "photo2=cv2.imread('b.jpeg')"
   ]
  },
  {
   "cell_type": "code",
   "execution_count": 29,
   "id": "optimum-component",
   "metadata": {},
   "outputs": [],
   "source": [
    "# CROPPING IMAGE 1\n",
    "\n",
    "b_crop=photo2[20:220,100:300]"
   ]
  },
  {
   "cell_type": "code",
   "execution_count": 30,
   "id": "cooked-savage",
   "metadata": {},
   "outputs": [],
   "source": [
    "cv2.imshow('pic2_crop',b_crop)\n",
    "cv2.waitKey()\n",
    "cv2.destroyAllWindows()"
   ]
  },
  {
   "cell_type": "code",
   "execution_count": 31,
   "id": "electronic-terminal",
   "metadata": {},
   "outputs": [],
   "source": [
    "#SWAPPING CROPPED IMAGE 2 WITH IMAGE 1 viceversa\n",
    "\n",
    "photo1[20:220,100:300]=b_crop"
   ]
  },
  {
   "cell_type": "code",
   "execution_count": null,
   "id": "advance-rally",
   "metadata": {},
   "outputs": [],
   "source": [
    "cv2.imshow('pic1_final',photo1)\n",
    "cv2.waitKey()\n",
    "cv2.destroyAllWindows()"
   ]
  },
  {
   "cell_type": "code",
   "execution_count": null,
   "id": "39d44f3e",
   "metadata": {},
   "outputs": [],
   "source": []
  }
 ],
 "metadata": {
  "kernelspec": {
   "display_name": "Python 3",
   "language": "python",
   "name": "python3"
  },
  "language_info": {
   "codemirror_mode": {
    "name": "ipython",
    "version": 3
   },
   "file_extension": ".py",
   "mimetype": "text/x-python",
   "name": "python",
   "nbconvert_exporter": "python",
   "pygments_lexer": "ipython3",
   "version": "3.8.8"
  }
 },
 "nbformat": 4,
 "nbformat_minor": 5
}
