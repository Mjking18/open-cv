{
 "cells": [
  {
   "cell_type": "markdown",
   "id": "nuclear-mobility",
   "metadata": {},
   "source": [
    "# Task 4.3 "
   ]
  },
  {
   "cell_type": "code",
   "execution_count": 10,
   "id": "isolated-marsh",
   "metadata": {},
   "outputs": [],
   "source": [
    "#importing libraries\n",
    "\n",
    "import cv2       \n",
    "import numpy as np"
   ]
  },
  {
   "cell_type": "code",
   "execution_count": 11,
   "id": "premier-charity",
   "metadata": {},
   "outputs": [],
   "source": [
    "# Importing picture 1\n",
    "\n",
    "photo1=cv2.imread('a.jpeg')\n"
   ]
  },
  {
   "cell_type": "code",
   "execution_count": 12,
   "id": "satellite-paraguay",
   "metadata": {},
   "outputs": [],
   "source": [
    "#Displaying image\n",
    "\n",
    "cv2.imshow('pic1',photo1)\n",
    "cv2.waitKey()\n",
    "cv2.destroyAllWindows()"
   ]
  },
  {
   "cell_type": "code",
   "execution_count": 13,
   "id": "meaning-updating",
   "metadata": {},
   "outputs": [],
   "source": [
    "# Importing picture 2\n",
    "\n",
    "photo2=cv2.imread('b.jpeg')\n"
   ]
  },
  {
   "cell_type": "code",
   "execution_count": 14,
   "id": "descending-roller",
   "metadata": {},
   "outputs": [],
   "source": [
    "#Displaying image\n",
    "\n",
    "cv2.imshow('pic2',photo2)\n",
    "cv2.waitKey()\n",
    "cv2.destroyAllWindows()\n"
   ]
  },
  {
   "cell_type": "code",
   "execution_count": 15,
   "id": "answering-genealogy",
   "metadata": {},
   "outputs": [
    {
     "data": {
      "text/plain": [
       "(509, 350, 3)"
      ]
     },
     "execution_count": 15,
     "metadata": {},
     "output_type": "execute_result"
    }
   ],
   "source": [
    "# Dimensions\n",
    "\n",
    "photo1.shape"
   ]
  },
  {
   "cell_type": "code",
   "execution_count": 16,
   "id": "changing-grain",
   "metadata": {},
   "outputs": [
    {
     "data": {
      "text/plain": [
       "(509, 350, 3)"
      ]
     },
     "execution_count": 16,
     "metadata": {},
     "output_type": "execute_result"
    }
   ],
   "source": [
    "photo2.shape"
   ]
  },
  {
   "cell_type": "code",
   "execution_count": 17,
   "id": "adjusted-boost",
   "metadata": {},
   "outputs": [],
   "source": [
    "# Creating Collage\n",
    "\n",
    "photo_collage=np.concatenate((photo1,photo2),axis=1)"
   ]
  },
  {
   "cell_type": "code",
   "execution_count": null,
   "id": "deluxe-elizabeth",
   "metadata": {},
   "outputs": [],
   "source": [
    "#FINAL OUTPUT\n",
    "\n",
    "cv2.imshow('pic_final',photo_collage)\n",
    "cv2.waitKey()\n",
    "cv2.destroyAllWindows()"
   ]
  },
  {
   "cell_type": "code",
   "execution_count": null,
   "id": "established-uncertainty",
   "metadata": {},
   "outputs": [],
   "source": []
  },
  {
   "cell_type": "code",
   "execution_count": null,
   "id": "3f9f4e34",
   "metadata": {},
   "outputs": [],
   "source": []
  }
 ],
 "metadata": {
  "kernelspec": {
   "display_name": "Python 3",
   "language": "python",
   "name": "python3"
  },
  "language_info": {
   "codemirror_mode": {
    "name": "ipython",
    "version": 3
   },
   "file_extension": ".py",
   "mimetype": "text/x-python",
   "name": "python",
   "nbconvert_exporter": "python",
   "pygments_lexer": "ipython3",
   "version": "3.8.8"
  }
 },
 "nbformat": 4,
 "nbformat_minor": 5
}
